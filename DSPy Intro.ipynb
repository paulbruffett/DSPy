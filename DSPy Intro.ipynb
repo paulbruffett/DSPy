{
 "cells": [
  {
   "cell_type": "markdown",
   "id": "cc7d2c04-6f2f-48e5-ad76-1efc50e17633",
   "metadata": {},
   "source": [
    "## Installing dependencies"
   ]
  },
  {
   "cell_type": "code",
   "execution_count": 1,
   "id": "8a885738-2be6-4ba0-a9fd-565aecaec906",
   "metadata": {},
   "outputs": [
    {
     "name": "stdout",
     "output_type": "stream",
     "text": [
      "\u001b[33mWARNING: Running pip as the 'root' user can result in broken permissions and conflicting behaviour with the system package manager. It is recommended to use a virtual environment instead: https://pip.pypa.io/warnings/venv\u001b[0m\u001b[33m\n",
      "\u001b[0m\u001b[33mWARNING: Running pip as the 'root' user can result in broken permissions and conflicting behaviour with the system package manager. It is recommended to use a virtual environment instead: https://pip.pypa.io/warnings/venv\u001b[0m\u001b[33m\n",
      "\u001b[0m"
     ]
    }
   ],
   "source": [
    "!pip install -q -U pip\n",
    "!pip install -q dspy-ai"
   ]
  },
  {
   "cell_type": "code",
   "execution_count": 2,
   "id": "1eb42454-c4c3-49ab-b56d-19248d0bed16",
   "metadata": {},
   "outputs": [],
   "source": [
    "import sys\n",
    "import os\n",
    "import dspy\n",
    "import pandas as pd"
   ]
  },
  {
   "cell_type": "markdown",
   "id": "46631104-fc59-453f-8faa-8d47639590a0",
   "metadata": {},
   "source": [
    "## Setting up the LLM with Azure OpenAI\n",
    "Using an a GPT3.5-Turbo deployment and sourcing wikipedia abstracts from a public endpoint."
   ]
  },
  {
   "cell_type": "code",
   "execution_count": 3,
   "id": "a6381ed1-be77-4410-93a1-4a484c7aa0c1",
   "metadata": {},
   "outputs": [],
   "source": [
    "turbo = dspy.OpenAI(api_key=\"\",api_provider=\"azure\",deployment_id=\"gpt35\", api_version=\"2023-09-15-preview\",\n",
    "                   api_base=\"\",model_type='chat')\n",
    "colbertv2_wiki17_abstracts = dspy.ColBERTv2(url='http://20.102.90.50:2017/wiki17_abstracts')\n",
    "\n",
    "dspy.settings.configure(lm=turbo, rm=colbertv2_wiki17_abstracts)\n",
    "\n",
    "dspy.settings.configure(lm=turbo)"
   ]
  },
  {
   "cell_type": "markdown",
   "id": "b73d90d8-eae0-4d4d-9867-e316d67fddb2",
   "metadata": {},
   "source": [
    "## Using data from a Kaggle competition to evalute questions and responses\n",
    "https://www.kaggle.com/datasets/rtatman/questionanswer-dataset/code\n",
    "\n",
    "We're loading all the files, dropping nulls in the question and answer, and DSPy wants it to be lower case field names, so adjusting those."
   ]
  },
  {
   "cell_type": "code",
   "execution_count": 4,
   "id": "a997358d-f1b3-4362-afde-a4571f7793d5",
   "metadata": {},
   "outputs": [],
   "source": [
    "df1 = pd.read_csv('data/S08_question_answer_pairs.txt', sep='\\t')\n",
    "df2 = pd.read_csv('data/S09_question_answer_pairs.txt', sep='\\t')\n",
    "test = pd.read_csv('data/S10_question_answer_pairs.txt', sep='\\t', encoding = 'ISO-8859-1')"
   ]
  },
  {
   "cell_type": "code",
   "execution_count": 5,
   "id": "e838d108-9e9f-43ac-9a5c-66f794c6be8b",
   "metadata": {},
   "outputs": [],
   "source": [
    "train = pd.concat([df1, df2], ignore_index=True)"
   ]
  },
  {
   "cell_type": "code",
   "execution_count": 6,
   "id": "ba32f3aa-575d-4bdf-b330-e364d909ce33",
   "metadata": {},
   "outputs": [],
   "source": [
    "train = train[train['Question'].notnull()]\n",
    "train = train[train['Answer'].notnull()]\n",
    "test = test[test['Question'].notnull()]\n",
    "test = test[test['Answer'].notnull()]"
   ]
  },
  {
   "cell_type": "code",
   "execution_count": 7,
   "id": "1a9a00f1-664b-41d9-994b-9f47979188c2",
   "metadata": {},
   "outputs": [],
   "source": [
    "train = train.rename(columns={\"Question\": \"question\", \"Answer\": \"answer\"})\n",
    "test = test.rename(columns={\"Question\": \"question\", \"Answer\": \"answer\"})"
   ]
  },
  {
   "cell_type": "code",
   "execution_count": 8,
   "id": "337377ca-9e92-4d7a-bfe5-88b711b13142",
   "metadata": {},
   "outputs": [
    {
     "data": {
      "text/html": [
       "<div>\n",
       "<style scoped>\n",
       "    .dataframe tbody tr th:only-of-type {\n",
       "        vertical-align: middle;\n",
       "    }\n",
       "\n",
       "    .dataframe tbody tr th {\n",
       "        vertical-align: top;\n",
       "    }\n",
       "\n",
       "    .dataframe thead th {\n",
       "        text-align: right;\n",
       "    }\n",
       "</style>\n",
       "<table border=\"1\" class=\"dataframe\">\n",
       "  <thead>\n",
       "    <tr style=\"text-align: right;\">\n",
       "      <th></th>\n",
       "      <th>ArticleTitle</th>\n",
       "      <th>question</th>\n",
       "      <th>answer</th>\n",
       "      <th>DifficultyFromQuestioner</th>\n",
       "      <th>DifficultyFromAnswerer</th>\n",
       "      <th>ArticleFile</th>\n",
       "    </tr>\n",
       "  </thead>\n",
       "  <tbody>\n",
       "    <tr>\n",
       "      <th>0</th>\n",
       "      <td>Alessandro_Volta</td>\n",
       "      <td>Was Alessandro Volta a professor of chemistry?</td>\n",
       "      <td>Alessandro Volta was not a professor of chemis...</td>\n",
       "      <td>easy</td>\n",
       "      <td>easy</td>\n",
       "      <td>S10_set4_a10</td>\n",
       "    </tr>\n",
       "    <tr>\n",
       "      <th>1</th>\n",
       "      <td>Alessandro_Volta</td>\n",
       "      <td>Was Alessandro Volta a professor of chemistry?</td>\n",
       "      <td>No</td>\n",
       "      <td>easy</td>\n",
       "      <td>hard</td>\n",
       "      <td>S10_set4_a10</td>\n",
       "    </tr>\n",
       "    <tr>\n",
       "      <th>2</th>\n",
       "      <td>Alessandro_Volta</td>\n",
       "      <td>Did Alessandro Volta invent the remotely opera...</td>\n",
       "      <td>Alessandro Volta did invent the remotely opera...</td>\n",
       "      <td>easy</td>\n",
       "      <td>easy</td>\n",
       "      <td>S10_set4_a10</td>\n",
       "    </tr>\n",
       "    <tr>\n",
       "      <th>3</th>\n",
       "      <td>Alessandro_Volta</td>\n",
       "      <td>Did Alessandro Volta invent the remotely opera...</td>\n",
       "      <td>Yes</td>\n",
       "      <td>easy</td>\n",
       "      <td>easy</td>\n",
       "      <td>S10_set4_a10</td>\n",
       "    </tr>\n",
       "    <tr>\n",
       "      <th>4</th>\n",
       "      <td>Alessandro_Volta</td>\n",
       "      <td>Was Alessandro Volta taught in public schools?</td>\n",
       "      <td>Volta was taught in public schools.</td>\n",
       "      <td>easy</td>\n",
       "      <td>easy</td>\n",
       "      <td>S10_set4_a10</td>\n",
       "    </tr>\n",
       "    <tr>\n",
       "      <th>5</th>\n",
       "      <td>Alessandro_Volta</td>\n",
       "      <td>Was Alessandro Volta taught in public schools?</td>\n",
       "      <td>Yes</td>\n",
       "      <td>easy</td>\n",
       "      <td>easy</td>\n",
       "      <td>S10_set4_a10</td>\n",
       "    </tr>\n",
       "    <tr>\n",
       "      <th>6</th>\n",
       "      <td>Alessandro_Volta</td>\n",
       "      <td>Who did Alessandro Volta marry?</td>\n",
       "      <td>Alessandro Volta married Teresa Peregrini.</td>\n",
       "      <td>medium</td>\n",
       "      <td>medium</td>\n",
       "      <td>S10_set4_a10</td>\n",
       "    </tr>\n",
       "    <tr>\n",
       "      <th>7</th>\n",
       "      <td>Alessandro_Volta</td>\n",
       "      <td>Who did Alessandro Volta marry?</td>\n",
       "      <td>Teresa Peregrini</td>\n",
       "      <td>medium</td>\n",
       "      <td>medium</td>\n",
       "      <td>S10_set4_a10</td>\n",
       "    </tr>\n",
       "    <tr>\n",
       "      <th>8</th>\n",
       "      <td>Alessandro_Volta</td>\n",
       "      <td>What did Alessandro Volta invent in 1800?</td>\n",
       "      <td>In 1800, Alessandro Volta invented the voltaic...</td>\n",
       "      <td>medium</td>\n",
       "      <td>easy</td>\n",
       "      <td>S10_set4_a10</td>\n",
       "    </tr>\n",
       "    <tr>\n",
       "      <th>9</th>\n",
       "      <td>Alessandro_Volta</td>\n",
       "      <td>What did Alessandro Volta invent in 1800?</td>\n",
       "      <td>voltaic pile</td>\n",
       "      <td>medium</td>\n",
       "      <td>medium</td>\n",
       "      <td>S10_set4_a10</td>\n",
       "    </tr>\n",
       "  </tbody>\n",
       "</table>\n",
       "</div>"
      ],
      "text/plain": [
       "       ArticleTitle                                           question  \\\n",
       "0  Alessandro_Volta     Was Alessandro Volta a professor of chemistry?   \n",
       "1  Alessandro_Volta     Was Alessandro Volta a professor of chemistry?   \n",
       "2  Alessandro_Volta  Did Alessandro Volta invent the remotely opera...   \n",
       "3  Alessandro_Volta  Did Alessandro Volta invent the remotely opera...   \n",
       "4  Alessandro_Volta     Was Alessandro Volta taught in public schools?   \n",
       "5  Alessandro_Volta     Was Alessandro Volta taught in public schools?   \n",
       "6  Alessandro_Volta                    Who did Alessandro Volta marry?   \n",
       "7  Alessandro_Volta                    Who did Alessandro Volta marry?   \n",
       "8  Alessandro_Volta          What did Alessandro Volta invent in 1800?   \n",
       "9  Alessandro_Volta          What did Alessandro Volta invent in 1800?   \n",
       "\n",
       "                                              answer DifficultyFromQuestioner  \\\n",
       "0  Alessandro Volta was not a professor of chemis...                     easy   \n",
       "1                                                 No                     easy   \n",
       "2  Alessandro Volta did invent the remotely opera...                     easy   \n",
       "3                                                Yes                     easy   \n",
       "4                Volta was taught in public schools.                     easy   \n",
       "5                                                Yes                     easy   \n",
       "6         Alessandro Volta married Teresa Peregrini.                   medium   \n",
       "7                                   Teresa Peregrini                   medium   \n",
       "8  In 1800, Alessandro Volta invented the voltaic...                   medium   \n",
       "9                                       voltaic pile                   medium   \n",
       "\n",
       "  DifficultyFromAnswerer   ArticleFile  \n",
       "0                   easy  S10_set4_a10  \n",
       "1                   hard  S10_set4_a10  \n",
       "2                   easy  S10_set4_a10  \n",
       "3                   easy  S10_set4_a10  \n",
       "4                   easy  S10_set4_a10  \n",
       "5                   easy  S10_set4_a10  \n",
       "6                 medium  S10_set4_a10  \n",
       "7                 medium  S10_set4_a10  \n",
       "8                   easy  S10_set4_a10  \n",
       "9                 medium  S10_set4_a10  "
      ]
     },
     "execution_count": 8,
     "metadata": {},
     "output_type": "execute_result"
    }
   ],
   "source": [
    "test[:10]"
   ]
  },
  {
   "cell_type": "markdown",
   "id": "55e942f0-b3ce-4cc0-8211-089ebfb30731",
   "metadata": {},
   "source": [
    "### Converting to a Dataset\n",
    "Including training and test sets"
   ]
  },
  {
   "cell_type": "code",
   "execution_count": 9,
   "id": "3e243a74-f933-48b0-a97b-bf61e3ea616f",
   "metadata": {},
   "outputs": [],
   "source": [
    "from datasets import load_dataset\n",
    "from dspy.datasets.dataset import Dataset"
   ]
  },
  {
   "cell_type": "code",
   "execution_count": 10,
   "id": "af4ba37e-a2a0-49e2-8762-514e4701a5fb",
   "metadata": {},
   "outputs": [],
   "source": [
    "class CustomQA(Dataset):\n",
    "    def __init__(self, *args, df_train,df_test, **kwargs) -> None:\n",
    "        super().__init__(*args, **kwargs)\n",
    "        \n",
    "        official_train = []\n",
    "        for raw_example in df_train.iterrows():\n",
    "            example = {k: raw_example[1][k] for k in ['question','answer']}\n",
    "            official_train.append(example)\n",
    "        self._train = official_train\n",
    "        \n",
    "        official_train = []\n",
    "        for raw_example in df_test.iterrows():\n",
    "            example = {k: raw_example[1][k] for k in ['question','answer']}\n",
    "            official_train.append(example)\n",
    "        self._test = official_train"
   ]
  },
  {
   "cell_type": "code",
   "execution_count": 11,
   "id": "7c51c587-f32c-4182-a698-86d2c050e614",
   "metadata": {},
   "outputs": [],
   "source": [
    "train_ds = CustomQA(df_train=train,df_test=test)"
   ]
  },
  {
   "cell_type": "markdown",
   "id": "94c1525a-2618-440e-8251-21b2c901615a",
   "metadata": {},
   "source": [
    "## Defining a Signature"
   ]
  },
  {
   "cell_type": "code",
   "execution_count": 12,
   "id": "fbe77d6e-6855-4fa8-b7d8-74dcd00ae43d",
   "metadata": {},
   "outputs": [],
   "source": [
    "class BasicQA(dspy.Signature):\n",
    "    \"\"\"Answer questions with short factoid answers.\"\"\"\n",
    "\n",
    "    question = dspy.InputField()\n",
    "    answer = dspy.OutputField(desc=\"often between 1 and 5 words\")"
   ]
  },
  {
   "cell_type": "code",
   "execution_count": 13,
   "id": "8a20b67c-68c5-4499-8788-69039feaf3c5",
   "metadata": {},
   "outputs": [
    {
     "name": "stdout",
     "output_type": "stream",
     "text": [
      "Question: Who was the general in charge at the Battle of Antietam?\n",
      "Predicted Answer: George B. McClellan\n"
     ]
    }
   ],
   "source": [
    "# Define the predictor.\n",
    "generate_answer = dspy.Predict(BasicQA)\n",
    "\n",
    "example = train_ds.train[0]\n",
    "\n",
    "# Call the predictor on a particular input.\n",
    "pred = generate_answer(question=example.question)\n",
    "\n",
    "# Print the input and the prediction.\n",
    "print(f\"Question: {example.question}\")\n",
    "print(f\"Predicted Answer: {pred.answer}\")"
   ]
  },
  {
   "cell_type": "code",
   "execution_count": 14,
   "id": "28faba86-7419-4fbe-8dc7-8efde93deec0",
   "metadata": {},
   "outputs": [
    {
     "name": "stdout",
     "output_type": "stream",
     "text": [
      "\n",
      "\n",
      "\n",
      "\n",
      "Answer questions with short factoid answers.\n",
      "\n",
      "---\n",
      "\n",
      "Follow the following format.\n",
      "\n",
      "Question: ${question}\n",
      "Answer: often between 1 and 5 words\n",
      "\n",
      "---\n",
      "\n",
      "Question: Who was the general in charge at the Battle of Antietam?\n",
      "Answer:\u001b[32m George B. McClellan\u001b[0m\n",
      "\n",
      "\n",
      "\n"
     ]
    }
   ],
   "source": [
    "#basic prompt and reply\n",
    "turbo.inspect_history(n=1)"
   ]
  },
  {
   "cell_type": "code",
   "execution_count": 15,
   "id": "c80970c5-0247-4599-9f20-7f2dd71d1217",
   "metadata": {},
   "outputs": [
    {
     "name": "stdout",
     "output_type": "stream",
     "text": [
      "Question: Who was the general in charge at the Battle of Antietam?\n",
      "Thought: We know that the Battle of Antietam was a major battle during the American Civil War, so we can assume that a high-ranking military officer was in charge.\n",
      "Predicted Answer: General George McClellan.\n"
     ]
    }
   ],
   "source": [
    "# Define the predictor. Notice we're just changing the class. The signature BasicQA is unchanged.\n",
    "generate_answer_with_chain_of_thought = dspy.ChainOfThought(BasicQA)\n",
    "\n",
    "# Call the predictor on the same input.\n",
    "pred = generate_answer_with_chain_of_thought(question=example.question)\n",
    "\n",
    "# Print the input, the chain of thought, and the prediction.\n",
    "print(f\"Question: {example.question}\")\n",
    "print(f\"Thought: {pred.rationale.split('.', 1)[1].strip()}\")\n",
    "print(f\"Predicted Answer: {pred.answer}\")"
   ]
  },
  {
   "cell_type": "code",
   "execution_count": 16,
   "id": "514fb185-a11d-42ae-93a5-a273d5947a56",
   "metadata": {},
   "outputs": [
    {
     "name": "stdout",
     "output_type": "stream",
     "text": [
      "\n",
      "\n",
      "\n",
      "\n",
      "Answer questions with short factoid answers.\n",
      "\n",
      "---\n",
      "\n",
      "Follow the following format.\n",
      "\n",
      "Question: ${question}\n",
      "Reasoning: Let's think step by step in order to ${produce the answer}. We ...\n",
      "Answer: often between 1 and 5 words\n",
      "\n",
      "---\n",
      "\n",
      "Question: Who was the general in charge at the Battle of Antietam?\n",
      "Reasoning: Let's think step by step in order to\u001b[32m produce the answer. We know that the Battle of Antietam was a major battle during the American Civil War, so we can assume that a high-ranking military officer was in charge.\n",
      "Answer: General George McClellan.\u001b[0m\n",
      "\n",
      "\n",
      "\n"
     ]
    }
   ],
   "source": [
    "#conversation now that we added chain of thought tasks\n",
    "turbo.inspect_history(n=1)"
   ]
  },
  {
   "cell_type": "markdown",
   "id": "f0d66b1a-f23f-492b-befb-c89453c80da7",
   "metadata": {},
   "source": [
    "# Retrieval Augmentation"
   ]
  },
  {
   "cell_type": "code",
   "execution_count": 17,
   "id": "80fab70f-c36d-4ac6-ae0a-c705fe9884fa",
   "metadata": {},
   "outputs": [],
   "source": [
    "class GenerateAnswer(dspy.Signature):\n",
    "    \"\"\"Answer questions with short factoid answers.\"\"\"\n",
    "\n",
    "    context = dspy.InputField(desc=\"may contain relevant facts\")\n",
    "    question = dspy.InputField()\n",
    "    answer = dspy.OutputField(desc=\"often between 1 and 5 words\")"
   ]
  },
  {
   "cell_type": "code",
   "execution_count": 18,
   "id": "8f0d9704-2002-463a-940f-9c4019b135b2",
   "metadata": {},
   "outputs": [],
   "source": [
    "class RAG(dspy.Module):\n",
    "    def __init__(self, num_passages=3):\n",
    "        super().__init__()\n",
    "\n",
    "        self.retrieve = dspy.Retrieve(k=num_passages)\n",
    "        self.generate_answer = dspy.ChainOfThought(GenerateAnswer)\n",
    "    \n",
    "    def forward(self, question):\n",
    "        context = self.retrieve(question).passages\n",
    "        prediction = self.generate_answer(context=context, question=question)\n",
    "        return dspy.Prediction(context=context, answer=prediction.answer)"
   ]
  },
  {
   "cell_type": "code",
   "execution_count": 19,
   "id": "412d5b9e-6ff7-4f07-a1f9-550a50b0b2fc",
   "metadata": {},
   "outputs": [
    {
     "data": {
      "text/plain": [
       "(2200, 1222)"
      ]
     },
     "execution_count": 19,
     "metadata": {},
     "output_type": "execute_result"
    }
   ],
   "source": [
    "trainset = [x.with_inputs('question') for x in train_ds.train]\n",
    "testset = [x.with_inputs('question') for x in train_ds.test]\n",
    "\n",
    "#we'll use a small subset of data to bootstrap the LLM\n",
    "len(trainset), len(testset)"
   ]
  },
  {
   "cell_type": "code",
   "execution_count": 20,
   "id": "ff8282db-29b2-4e63-900a-b4a44d03dd28",
   "metadata": {},
   "outputs": [
    {
     "data": {
      "text/plain": [
       "[Example({'question': 'Is it possible that there are more than 350,000 species of beetles?', 'answer': 'yes'}) (input_keys={'question'}),\n",
       " Example({'question': 'Have cymbals been used historically to suggest bacchanal?', 'answer': 'Yes'}) (input_keys={'question'}),\n",
       " Example({'question': \"Does Indonesia have the world's hightest level of biodiversity?\", 'answer': 'No'}) (input_keys={'question'}),\n",
       " Example({'question': 'Are studies insufficient evidence for global protection?', 'answer': 'It is arguable.'}) (input_keys={'question'}),\n",
       " Example({'question': 'Is the cello a stringed instrument?', 'answer': 'yes'}) (input_keys={'question'}),\n",
       " Example({'question': 'From what did Pascal suffer throughout his life?', 'answer': 'poor health'}) (input_keys={'question'}),\n",
       " Example({'question': 'When is the first record of S08_settlement in Singapore?', 'answer': 'The first records of S08_settlement in Singapore are from the second century AD.'}) (input_keys={'question'}),\n",
       " Example({'question': 'What areas can giraffes inhabit?', 'answer': 'savannas, grasslands, or open woodlands'}) (input_keys={'question'}),\n",
       " Example({'question': 'Do sea otters have a layer of fat like whales?', 'answer': 'No'}) (input_keys={'question'}),\n",
       " Example({'question': 'Was Millard Fillmore the thirteenth President of the United States?', 'answer': 'yes'}) (input_keys={'question'})]"
      ]
     },
     "execution_count": 20,
     "metadata": {},
     "output_type": "execute_result"
    }
   ],
   "source": [
    "trainset[100:110]"
   ]
  },
  {
   "cell_type": "markdown",
   "id": "e8884a14-357d-4c36-9cbe-ea541578145e",
   "metadata": {},
   "source": [
    "## Few Shot Prompts\n",
    "So far the prompts have not included examples of successful question and answer pairs.  Teleprompters optimize the prompt by selecting pairs for inclusion to generate high quality results."
   ]
  },
  {
   "cell_type": "code",
   "execution_count": 21,
   "id": "d83c763f-1247-46e0-969c-e46ef96a5c85",
   "metadata": {},
   "outputs": [
    {
     "name": "stderr",
     "output_type": "stream",
     "text": [
      "100%|██████████| 50/50 [00:00<00:00, 396.04it/s]"
     ]
    },
    {
     "name": "stdout",
     "output_type": "stream",
     "text": [
      "Bootstrapped 3 full traces after 50 examples in round 0.\n"
     ]
    },
    {
     "name": "stderr",
     "output_type": "stream",
     "text": [
      "\n"
     ]
    }
   ],
   "source": [
    "from dspy.teleprompt import BootstrapFewShot\n",
    "\n",
    "# Validation logic: check that the predicted answer is correct.\n",
    "# Also check that the retrieved context does actually contain that answer.\n",
    "def validate_context_and_answer(example, pred, trace=None):\n",
    "    answer_EM = dspy.evaluate.answer_exact_match(example, pred)\n",
    "    answer_PM = dspy.evaluate.answer_passage_match(example, pred)\n",
    "    return answer_EM and answer_PM\n",
    "\n",
    "# Set up a basic teleprompter, which will compile our RAG program.\n",
    "teleprompter = BootstrapFewShot(metric=validate_context_and_answer)\n",
    "\n",
    "# Compile!\n",
    "compiled_rag = teleprompter.compile(RAG(), trainset=trainset[100:150])"
   ]
  },
  {
   "cell_type": "code",
   "execution_count": 22,
   "id": "bfecdbb0-3733-4890-a519-e779c40dee3b",
   "metadata": {},
   "outputs": [
    {
     "name": "stdout",
     "output_type": "stream",
     "text": [
      "Example({'question': 'What material is a chi flute fashioned from?', 'answer': 'Lacquered bamboo'}) (input_keys={'question'})\n",
      "Question: What material is a chi flute fashioned from?\n",
      "Predicted Answer: It is usually made of wood.\n"
     ]
    }
   ],
   "source": [
    "# Ask any question you like to this simple RAG program.\n",
    "print(testset[5])\n",
    "\n",
    "# Get the prediction. This contains `pred.context` and `pred.answer`.\n",
    "pred = compiled_rag(testset[5].question)\n",
    "\n",
    "# Print the contexts and the answer.\n",
    "print(f\"Question: {testset[5].question}\")\n",
    "print(f\"Predicted Answer: {pred.answer}\")"
   ]
  },
  {
   "cell_type": "code",
   "execution_count": 23,
   "id": "6108f1b4-62cb-4630-b5b3-e63b78c2d586",
   "metadata": {},
   "outputs": [
    {
     "name": "stdout",
     "output_type": "stream",
     "text": [
      "\n",
      "\n",
      "\n",
      "\n",
      "Answer questions with short factoid answers.\n",
      "\n",
      "---\n",
      "\n",
      "Question: Why are otters vulnerable to prey depletion?\n",
      "Answer: prey-dependency\n",
      "\n",
      "Question: When was the pan flute spread to other parts of Europe?\n",
      "Answer: After the 7th century BC\n",
      "\n",
      "Question: From what type of Cymbals can a expert player obtain an enormous dynamic range?\n",
      "Answer: Crash cymbals\n",
      "\n",
      "Question: Did John Adams support the Stamp Act of 1765?\n",
      "Answer: No\n",
      "\n",
      "Question: What did Cleveland die from?\n",
      "Answer: A heart attack\n",
      "\n",
      "Question: When is the first record of S08_settlement in Singapore?\n",
      "Answer: The first records of S08_settlement in Singapore are from the second century AD.\n",
      "\n",
      "Question: Does the giant otter inhabit South Africa?\n",
      "Answer: No\n",
      "\n",
      "Question: What do we refer musicians who play flute?\n",
      "Answer: A flute player, a flautist or a flutist.\n",
      "\n",
      "Question: What resembles that of the similarly-sized cougar in the Americas?\n",
      "Answer: The leopard's ecological role\n",
      "\n",
      "Question: Was Millard Fillmore the thirteenth President of the United States?\n",
      "Answer: yes\n",
      "\n",
      "Question: From what did Pascal suffer throughout his life?\n",
      "Answer: poor health\n",
      "\n",
      "Question: Where was Grant born?\n",
      "Answer: Point Pleasant, Ohio\n",
      "\n",
      "Question: What areas can giraffes inhabit?\n",
      "Answer: savannas, grasslands, or open woodlands\n",
      "\n",
      "---\n",
      "\n",
      "Follow the following format.\n",
      "\n",
      "Context: may contain relevant facts\n",
      "\n",
      "Question: ${question}\n",
      "\n",
      "Reasoning: Let's think step by step in order to ${produce the answer}. We ...\n",
      "\n",
      "Answer: often between 1 and 5 words\n",
      "\n",
      "---\n",
      "\n",
      "Context:\n",
      "[1] «Volt | The volt (symbol: V) is the derived unit for electric potential, electric potential difference (voltage), and electromotive force. It is named after the Italian physicist Alessandro Volta (1745–1827).»\n",
      "[2] «Volt (disambiguation) | Volt (abbreviated V) is a unit of electric potential and electromotive force, named after Alessandro Volta.»\n",
      "[3] «Galvanic cell | A galvanic cell, or voltaic cell, named after Luigi Galvani, or Alessandro Volta respectively, is an electrochemical cell that derives electrical energy from spontaneous redox reactions taking place within the cell. It generally consists of two different metals connected by a salt bridge, or individual half-cells separated by a porous membrane.»\n",
      "\n",
      "Question: What important electrical unit was named in honor of Volta?\n",
      "\n",
      "Reasoning: Let's think step by step in order to produce the answer. We know that Alessandro Volta was an Italian physicist, and that there are multiple references to him in the context.\n",
      "\n",
      "Answer: The volt.\n",
      "\n",
      "---\n",
      "\n",
      "Context:\n",
      "[1] «Henri Becquerel | Antoine Henri Becquerel (15 December 1852 – 25 August 1908) was a French physicist, Nobel laureate, and the first person to discover evidence of radioactivity. For work in this field he, along with Marie Skłodowska-Curie and Pierre Curie, received the 1903 Nobel Prize in Physics. The SI unit for radioactivity, the becquerel (Bq), is named after him.»\n",
      "[2] «Louis Alfred Becquerel | Louis Alfred Becquerel (3 June 1814 – 10 March 1862) was a French physician and medical researcher.»\n",
      "[3] «Jean Becquerel | Jean Becquerel (5 February 1878 – 4 July 1953) was a French physicist, and son of Antoine-Henri Becquerel. He worked on the optical and magnetic properties of crystals, discovering the rotation of the plane of polarisation by a magnetic field. He also published a textbook on relativity. In 1909, he became the fourth in his family to occupy the physics chair at the Muséum National d'Histoire Naturelle, following in the footsteps of his father, his grandfather A. E. Becquerel and his great-grandfather Antoine César Becquerel.»\n",
      "\n",
      "Question: In what year did Henri Becquerel die?\n",
      "\n",
      "Reasoning: Let's think step by step in order to produce the answer. We know that Henri Becquerel was born on December 15, 1852 and that he died at some point after that. We also know that he received the Nobel Prize in Physics in 1903.\n",
      "\n",
      "Answer: 1908\n",
      "\n",
      "---\n",
      "\n",
      "Context:\n",
      "[1] «Bytown | Bytown is the former name of Ottawa, Ontario, Canada's capital city. It was founded on September 26, 1826, incorporated as a town on January 1, 1850, and superseded by the incorporation of the City of Ottawa on January 1, 1855. The founding was marked by a sod turning, and a letter from Governor General Dalhousie which authorized Lieutenant Colonel John By to divide up the town into lots. Bytown came about as a result of the construction of the Rideau Canal and grew largely due to the Ottawa River timber trade. Bytown's first mayor was John Scott, elected in 1847.»\n",
      "[2] «First City Hall (Ottawa) | The first city hall for the city of Ottawa, Ontario was built in 1849 on Elgin Street between Queen and Albert Streets.»\n",
      "[3] «Bytown and Prescott Railway | The Bytown and Prescott Railway (B&PR) was a railway joining Ottawa (then called Bytown) with Prescott on the Saint Lawrence River. The company was incorporated in 1850, and the first train ran from Prescott into Bytown on Christmas Day, 1854. The 84 km (52 mile) railway, Ottawa's first to outside markets, was initially used to ship lumber collected on the Ottawa River for further shipping along the St. Lawrence to markets in the United States and Montreal.»\n",
      "\n",
      "Question: What was Ottawa's name in 1850?\n",
      "\n",
      "Reasoning: Let's think step by step in order to produce the answer. We know that Ottawa was originally called Bytown and was incorporated as a town on January 1, 1850.\n",
      "\n",
      "Answer: Bytown\n",
      "\n",
      "---\n",
      "\n",
      "Context:\n",
      "[1] «Xirula | The xirula (] , spelled \"chiroula\" in French, also pronounced \"txirula\", \"(t)xülüla\" in Zuberoan Basque; Gascon: \"flabuta\"; French: \"galoubet\") is a small three holed woodwind instrument or flute usually made of wood akin to the Basque txistu or three-hole pipe, but more high pitched and strident, tuned to C and an octave higher than the \"silbote\". The sound that flows from the flute has often been perceived as a metaphor for the tweet cadences of bird songs. Some scholars point out that flutes found in the Caverns of Isturitz and Oxozelaia going back to a period spanning 35,000 to 10,000 years ago bear witness to the early presence of the instrument's forerunner in the region, while this view has been disputed.»\n",
      "[2] «Zuffolo | Zuffolo (also chiufolo, ciufolo) is an Italian fipple flute. First described in the 14th century, it has a rear thumb-hole, two front finger-holes, and a conical bore. It is approximately 8 cm in length and has a range of over two octaves, from B to C . A larger instrument of the same name, with a lowest note of C5 appeared in the early 17th century .»\n",
      "[3] «Shvi | The shvi (Armenian: Շվի , \"whistle\", pronounced \"sh-vee\") is a fipple flute with a labium mouth piece. Commonly made of wood (apricot, boxwood, ebony ) or bamboo and up to 12 in in length, it typically has a range of an octave and a-half. The \"tav shvi\" is made from apricot wood, it is up to 18 in long, and is tuned 1/4 lower producing a more lyrical and intimate sound.»\n",
      "\n",
      "Question: What material is a chi flute fashioned from?\n",
      "\n",
      "Reasoning: Let's think step by step in order to\u001b[32m produce the answer. We know that the chi flute is also known as the zuffolo and is an Italian fipple flute. We also know that it has a conical bore and two front finger-holes.\n",
      "\n",
      "Answer: It is usually made of wood.\u001b[0m\n",
      "\n",
      "\n",
      "\n"
     ]
    }
   ],
   "source": [
    "turbo.inspect_history(n=1)"
   ]
  },
  {
   "cell_type": "code",
   "execution_count": 24,
   "id": "48d8e702-d6d0-4ba3-9bb3-05c39152ad88",
   "metadata": {},
   "outputs": [
    {
     "name": "stderr",
     "output_type": "stream",
     "text": [
      "Average Metric: 2.0 / 36  (5.6):  72%|███████▏  | 36/50 [00:25<00:08,  1.58it/s]"
     ]
    },
    {
     "name": "stdout",
     "output_type": "stream",
     "text": [
      "Error for example in dev set: \t\t The response was filtered due to the prompt triggering Azure OpenAI’s content management policy. Please modify your prompt and retry. To learn more about our content filtering policies please read our documentation: https://go.microsoft.com/fwlink/?linkid=2198766\n"
     ]
    },
    {
     "name": "stderr",
     "output_type": "stream",
     "text": [
      "Average Metric: 3.0 / 50  (6.0): 100%|██████████| 50/50 [00:34<00:00,  1.46it/s]\n"
     ]
    },
    {
     "name": "stdout",
     "output_type": "stream",
     "text": [
      "Average Metric: 3.0 / 50  (6.0%)\n"
     ]
    },
    {
     "data": {
      "text/html": [
       "<style type=\"text/css\">\n",
       "#T_fd189 th {\n",
       "  text-align: left;\n",
       "}\n",
       "#T_fd189 td {\n",
       "  text-align: left;\n",
       "}\n",
       "#T_fd189_row0_col0, #T_fd189_row0_col1, #T_fd189_row0_col2, #T_fd189_row0_col3, #T_fd189_row0_col4, #T_fd189_row0_col5, #T_fd189_row1_col0, #T_fd189_row1_col1, #T_fd189_row1_col2, #T_fd189_row1_col3, #T_fd189_row1_col4, #T_fd189_row1_col5, #T_fd189_row2_col0, #T_fd189_row2_col1, #T_fd189_row2_col2, #T_fd189_row2_col3, #T_fd189_row2_col4, #T_fd189_row2_col5, #T_fd189_row3_col0, #T_fd189_row3_col1, #T_fd189_row3_col2, #T_fd189_row3_col3, #T_fd189_row3_col4, #T_fd189_row3_col5, #T_fd189_row4_col0, #T_fd189_row4_col1, #T_fd189_row4_col2, #T_fd189_row4_col3, #T_fd189_row4_col4, #T_fd189_row4_col5 {\n",
       "  text-align: left;\n",
       "  white-space: pre-wrap;\n",
       "  word-wrap: break-word;\n",
       "  max-width: 400px;\n",
       "}\n",
       "</style>\n",
       "<table id=\"T_fd189\">\n",
       "  <thead>\n",
       "    <tr>\n",
       "      <th class=\"blank level0\" >&nbsp;</th>\n",
       "      <th id=\"T_fd189_level0_col0\" class=\"col_heading level0 col0\" >question</th>\n",
       "      <th id=\"T_fd189_level0_col1\" class=\"col_heading level0 col1\" >example_answer</th>\n",
       "      <th id=\"T_fd189_level0_col2\" class=\"col_heading level0 col2\" >context</th>\n",
       "      <th id=\"T_fd189_level0_col3\" class=\"col_heading level0 col3\" >pred_answer</th>\n",
       "      <th id=\"T_fd189_level0_col4\" class=\"col_heading level0 col4\" >answer_exact_match</th>\n",
       "      <th id=\"T_fd189_level0_col5\" class=\"col_heading level0 col5\" >answer</th>\n",
       "    </tr>\n",
       "  </thead>\n",
       "  <tbody>\n",
       "    <tr>\n",
       "      <th id=\"T_fd189_level0_row0\" class=\"row_heading level0 row0\" >0</th>\n",
       "      <td id=\"T_fd189_row0_col0\" class=\"data row0 col0\" >Where is the James Watt Memorial College?</td>\n",
       "      <td id=\"T_fd189_row0_col1\" class=\"data row0 col1\" >In Greenock.</td>\n",
       "      <td id=\"T_fd189_row0_col2\" class=\"data row0 col2\" >['James Watt College | The James Watt College was a further education college in Greenock, Scotland. It is now part of West College Scotland. There...</td>\n",
       "      <td id=\"T_fd189_row0_col3\" class=\"data row0 col3\" >There is no James Watt Memorial College.</td>\n",
       "      <td id=\"T_fd189_row0_col4\" class=\"data row0 col4\" >❌ [False]</td>\n",
       "      <td id=\"T_fd189_row0_col5\" class=\"data row0 col5\" >nan</td>\n",
       "    </tr>\n",
       "    <tr>\n",
       "      <th id=\"T_fd189_level0_row1\" class=\"row_heading level0 row1\" >1</th>\n",
       "      <td id=\"T_fd189_row1_col0\" class=\"data row1 col0\" >Are termites actually more closely related to cockroaches as well as mantids?</td>\n",
       "      <td id=\"T_fd189_row1_col1\" class=\"data row1 col1\" >Yes, termites are actually more closely related to cockroaches as well as mantids.</td>\n",
       "      <td id=\"T_fd189_row1_col2\" class=\"data row1 col2\" >['Blattodea | Blattodea is an order of insects that contains the cockroaches and the termites. Formerly, the termites were considered a separate order, Isoptera, but...</td>\n",
       "      <td id=\"T_fd189_row1_col3\" class=\"data row1 col3\" >Yes, termites are more closely related to cockroaches as well as mantids.</td>\n",
       "      <td id=\"T_fd189_row1_col4\" class=\"data row1 col4\" >❌ [False]</td>\n",
       "      <td id=\"T_fd189_row1_col5\" class=\"data row1 col5\" >nan</td>\n",
       "    </tr>\n",
       "    <tr>\n",
       "      <th id=\"T_fd189_level0_row2\" class=\"row_heading level0 row2\" >2</th>\n",
       "      <td id=\"T_fd189_row2_col0\" class=\"data row2 col0\" >Was Volta made a count in 1810?</td>\n",
       "      <td id=\"T_fd189_row2_col1\" class=\"data row2 col1\" >No.</td>\n",
       "      <td id=\"T_fd189_row2_col2\" class=\"data row2 col2\" >[\"Alessandro Volta | Alessandro Giuseppe Antonio Anastasio Volta (] ; 18 February 1745 – 5 March 1827) was an Italian physicist, chemist, and a pioneer...</td>\n",
       "      <td id=\"T_fd189_row2_col3\" class=\"data row2 col3\" >Unknown/No information provided.</td>\n",
       "      <td id=\"T_fd189_row2_col4\" class=\"data row2 col4\" >❌ [False]</td>\n",
       "      <td id=\"T_fd189_row2_col5\" class=\"data row2 col5\" >nan</td>\n",
       "    </tr>\n",
       "    <tr>\n",
       "      <th id=\"T_fd189_level0_row3\" class=\"row_heading level0 row3\" >3</th>\n",
       "      <td id=\"T_fd189_row3_col0\" class=\"data row3 col0\" >Is Berlin the headquarters of Springer?</td>\n",
       "      <td id=\"T_fd189_row3_col1\" class=\"data row3 col1\" >Yes, Berlin is the headquarters of Springer.</td>\n",
       "      <td id=\"T_fd189_row3_col2\" class=\"data row3 col2\" >['Idealo | The company idealo internet GmbH is a price comparison service launched in Germany in 2000, and since bought by the Axel Springer AG...</td>\n",
       "      <td id=\"T_fd189_row3_col3\" class=\"data row3 col3\" >Yes, Berlin is one of the major offices of Springer Science+Business Media, which is owned by Axel Springer AG.</td>\n",
       "      <td id=\"T_fd189_row3_col4\" class=\"data row3 col4\" >❌ [False]</td>\n",
       "      <td id=\"T_fd189_row3_col5\" class=\"data row3 col5\" >nan</td>\n",
       "    </tr>\n",
       "    <tr>\n",
       "      <th id=\"T_fd189_level0_row4\" class=\"row_heading level0 row4\" >4</th>\n",
       "      <td id=\"T_fd189_row4_col0\" class=\"data row4 col0\" >Why does Jakarta suffer frequent flooding?</td>\n",
       "      <td id=\"T_fd189_row4_col1\" class=\"data row4 col1\" >Because it is located approximately eight meters above the sea level</td>\n",
       "      <td id=\"T_fd189_row4_col2\" class=\"data row4 col2\" >['2007 Jakarta flood | The 2007 Jakarta flood was a major flood in Jakarta, the capital of Indonesia and affected several other areas around the...</td>\n",
       "      <td id=\"T_fd189_row4_col3\" class=\"data row4 col3\" >Heavy rain, deforestation, and clogged waterways.</td>\n",
       "      <td id=\"T_fd189_row4_col4\" class=\"data row4 col4\" >❌ [False]</td>\n",
       "      <td id=\"T_fd189_row4_col5\" class=\"data row4 col5\" >nan</td>\n",
       "    </tr>\n",
       "  </tbody>\n",
       "</table>\n"
      ],
      "text/plain": [
       "<pandas.io.formats.style.Styler at 0x7f16a81a2f10>"
      ]
     },
     "metadata": {},
     "output_type": "display_data"
    },
    {
     "data": {
      "text/html": [
       "\n",
       "                <div style='\n",
       "                    text-align: center; \n",
       "                    font-size: 16px; \n",
       "                    font-weight: bold; \n",
       "                    color: #555; \n",
       "                    margin: 10px 0;'>\n",
       "                    ... 45 more rows not displayed ...\n",
       "                </div>\n",
       "                "
      ],
      "text/plain": [
       "<IPython.core.display.HTML object>"
      ]
     },
     "metadata": {},
     "output_type": "display_data"
    },
    {
     "data": {
      "text/plain": [
       "6.0"
      ]
     },
     "execution_count": 24,
     "metadata": {},
     "output_type": "execute_result"
    }
   ],
   "source": [
    "from dspy.evaluate.evaluate import Evaluate\n",
    "\n",
    "# Set up the `evaluate_on_hotpotqa` function. We'll use this many times below.\n",
    "evaluate_on_hotpotqa = Evaluate(devset=testset[:50], num_threads=1, display_progress=True, display_table=5)\n",
    "\n",
    "# Evaluate the `compiled_rag` program with the `answer_exact_match` metric.\n",
    "metric = dspy.evaluate.answer_exact_match\n",
    "evaluate_on_hotpotqa(compiled_rag, metric=metric)"
   ]
  },
  {
   "cell_type": "markdown",
   "id": "e7f88a06-0ef8-409f-a45e-028755e739b5",
   "metadata": {},
   "source": [
    "Results are poor but much of this is due to the fact that it does not identically match, many of the results are broadly accurate and an Evaluation LLM might help sift through and give a more accurate perspective."
   ]
  },
  {
   "cell_type": "markdown",
   "id": "3362b03f-469c-4f6f-a316-30ece4cc2a78",
   "metadata": {},
   "source": [
    "# More Complex Multi-Hop\n",
    "Some questions require more than one retrieval for context, if information must be looked up to shape follow on questions, this multi-hop Q&A requires a more complex Signature."
   ]
  },
  {
   "cell_type": "code",
   "execution_count": 25,
   "id": "08d42ca9-443b-44b3-a57c-b090551cb93f",
   "metadata": {},
   "outputs": [],
   "source": [
    "class GenerateSearchQuery(dspy.Signature):\n",
    "    \"\"\"Write a simple search query that will help answer a complex question.\"\"\"\n",
    "\n",
    "    context = dspy.InputField(desc=\"may contain relevant facts\")\n",
    "    question = dspy.InputField()\n",
    "    query = dspy.OutputField()"
   ]
  },
  {
   "cell_type": "code",
   "execution_count": 26,
   "id": "4f73cd56-c109-49b5-9a2c-7fa9ffb28ec2",
   "metadata": {},
   "outputs": [],
   "source": [
    "from dsp.utils import deduplicate\n",
    "\n",
    "class SimplifiedBaleen(dspy.Module):\n",
    "    def __init__(self, passages_per_hop=3, max_hops=2):\n",
    "        super().__init__()\n",
    "\n",
    "        self.generate_query = [dspy.ChainOfThought(GenerateSearchQuery) for _ in range(max_hops)]\n",
    "        self.retrieve = dspy.Retrieve(k=passages_per_hop)\n",
    "        self.generate_answer = dspy.ChainOfThought(GenerateAnswer)\n",
    "        self.max_hops = max_hops\n",
    "    \n",
    "    def forward(self, question):\n",
    "        context = []\n",
    "        \n",
    "        for hop in range(self.max_hops):\n",
    "            query = self.generate_query[hop](context=context, question=question).query\n",
    "            passages = self.retrieve(query).passages\n",
    "            context = deduplicate(context + passages)\n",
    "\n",
    "        pred = self.generate_answer(context=context, question=question)\n",
    "        return dspy.Prediction(context=context, answer=pred.answer)"
   ]
  },
  {
   "cell_type": "code",
   "execution_count": 27,
   "id": "d2b3a126-4afe-43be-be1a-3479234f7c1c",
   "metadata": {},
   "outputs": [
    {
     "name": "stdout",
     "output_type": "stream",
     "text": [
      "Question: How many storeys are in the castle that David Gregory inherited?\n",
      "Predicted Answer: Five storeys.\n",
      "Retrieved Contexts (truncated): ['David Gregory (physician) | David Gregory (20 December 1625 – 1720) was a Scottish physician and inventor. His surname is sometimes spelt as Gregorie, the original Scottish spelling. He inherited Kinn...', 'Gregory House | Gregory House, M.D., commonly referred to by his surname House, is the title character of the American medical drama series \"House\". Created by David Shore and portrayed by English act...', 'David S. Castle | David S. Castle (13 February 1884 – 28 October 1956) was an architect in Texas....', 'Kinnairdy Castle | Kinnairdy Castle is a tower house, having five storeys and a garret, two miles south of Aberchirder, Aberdeenshire, Scotland. The alternative name is Old Kinnairdy....', 'Kinnaird Castle, Brechin | Kinnaird Castle is a 15th-century castle in Angus, Scotland. The castle has been home to the Carnegie family, the Earl of Southesk, for more than 600 years....']\n"
     ]
    }
   ],
   "source": [
    "# Ask any question you like to this simple RAG program.\n",
    "my_question = \"How many storeys are in the castle that David Gregory inherited?\"\n",
    "\n",
    "# Get the prediction. This contains `pred.context` and `pred.answer`.\n",
    "uncompiled_baleen = SimplifiedBaleen()  # uncompiled (i.e., zero-shot) program\n",
    "pred = uncompiled_baleen(my_question)\n",
    "\n",
    "# Print the contexts and the answer.\n",
    "print(f\"Question: {my_question}\")\n",
    "print(f\"Predicted Answer: {pred.answer}\")\n",
    "print(f\"Retrieved Contexts (truncated): {[c[:200] + '...' for c in pred.context]}\")"
   ]
  },
  {
   "cell_type": "code",
   "execution_count": 28,
   "id": "b3c6bde4-ea3a-4e85-b456-bb14cd768071",
   "metadata": {},
   "outputs": [
    {
     "name": "stdout",
     "output_type": "stream",
     "text": [
      "\n",
      "\n",
      "\n",
      "\n",
      "Answer questions with short factoid answers.\n",
      "\n",
      "---\n",
      "\n",
      "Follow the following format.\n",
      "\n",
      "Context: may contain relevant facts\n",
      "\n",
      "Question: ${question}\n",
      "\n",
      "Reasoning: Let's think step by step in order to ${produce the answer}. We ...\n",
      "\n",
      "Answer: often between 1 and 5 words\n",
      "\n",
      "---\n",
      "\n",
      "Context:\n",
      "[1] «David Gregory (physician) | David Gregory (20 December 1625 – 1720) was a Scottish physician and inventor. His surname is sometimes spelt as Gregorie, the original Scottish spelling. He inherited Kinnairdy Castle in 1664. Three of his twenty-nine children became mathematics professors. He is credited with inventing a military cannon that Isaac Newton described as \"being destructive to the human species\". Copies and details of the model no longer exist. Gregory's use of a barometer to predict farming-related weather conditions led him to be accused of witchcraft by Presbyterian ministers from Aberdeen, although he was never convicted.»\n",
      "[2] «Gregory House | Gregory House, M.D., commonly referred to by his surname House, is the title character of the American medical drama series \"House\". Created by David Shore and portrayed by English actor Hugh Laurie, he leads a team of diagnosticians as the Head of Diagnostic Medicine at the fictional Princeton-Plainsboro Teaching Hospital in Princeton, New Jersey (based on the real-life Yale–New Haven Hospital in New Haven, Connecticut).»\n",
      "[3] «David S. Castle | David S. Castle (13 February 1884 – 28 October 1956) was an architect in Texas.»\n",
      "[4] «Kinnairdy Castle | Kinnairdy Castle is a tower house, having five storeys and a garret, two miles south of Aberchirder, Aberdeenshire, Scotland. The alternative name is Old Kinnairdy.»\n",
      "[5] «Kinnaird Castle, Brechin | Kinnaird Castle is a 15th-century castle in Angus, Scotland. The castle has been home to the Carnegie family, the Earl of Southesk, for more than 600 years.»\n",
      "\n",
      "Question: How many storeys are in the castle that David Gregory inherited?\n",
      "\n",
      "Reasoning: Let's think step by step in order to\u001b[32m produce the answer. We need to identify which castle David Gregory inherited and how many storeys it has.\n",
      "\n",
      "Answer: Five storeys.\u001b[0m\n",
      "\n",
      "\n",
      "\n"
     ]
    }
   ],
   "source": [
    "turbo.inspect_history(n=1)"
   ]
  },
  {
   "cell_type": "code",
   "execution_count": 29,
   "id": "13a3f292-58fc-49a4-9889-c72bcc43ea87",
   "metadata": {},
   "outputs": [],
   "source": [
    "def validate_context_and_answer_and_hops(example, pred, trace=None):\n",
    "    if not dspy.evaluate.answer_exact_match(example, pred): return False\n",
    "    if not dspy.evaluate.answer_passage_match(example, pred): return False\n",
    "\n",
    "    hops = [example.question] + [outputs.query for *_, outputs in trace if 'query' in outputs]\n",
    "\n",
    "    if max([len(h) for h in hops]) > 100: return False\n",
    "    if any(dspy.evaluate.answer_exact_match_str(hops[idx], hops[:idx], frac=0.8) for idx in range(2, len(hops))): return False\n",
    "\n",
    "    return True"
   ]
  },
  {
   "cell_type": "code",
   "execution_count": 30,
   "id": "c3485aea-b398-4f1e-90bd-3dd2136c02c9",
   "metadata": {},
   "outputs": [
    {
     "name": "stderr",
     "output_type": "stream",
     "text": [
      "100%|██████████| 60/60 [01:50<00:00,  1.84s/it]"
     ]
    },
    {
     "name": "stdout",
     "output_type": "stream",
     "text": [
      "Bootstrapped 3 full traces after 60 examples in round 0.\n"
     ]
    },
    {
     "name": "stderr",
     "output_type": "stream",
     "text": [
      "\n"
     ]
    }
   ],
   "source": [
    "teleprompter = BootstrapFewShot(metric=validate_context_and_answer_and_hops)\n",
    "compiled_baleen = teleprompter.compile(SimplifiedBaleen(), teacher=SimplifiedBaleen(passages_per_hop=2), trainset=trainset[:60])"
   ]
  },
  {
   "cell_type": "code",
   "execution_count": 31,
   "id": "dd139ec4-c1d4-4e48-a518-4c78d0c8e43e",
   "metadata": {},
   "outputs": [
    {
     "name": "stderr",
     "output_type": "stream",
     "text": [
      "Average Metric: 5.0 / 36  (13.9):  72%|███████▏  | 36/50 [01:18<00:28,  2.02s/it]"
     ]
    },
    {
     "name": "stdout",
     "output_type": "stream",
     "text": [
      "Error for example in dev set: \t\t The response was filtered due to the prompt triggering Azure OpenAI’s content management policy. Please modify your prompt and retry. To learn more about our content filtering policies please read our documentation: https://go.microsoft.com/fwlink/?linkid=2198766\n"
     ]
    },
    {
     "name": "stderr",
     "output_type": "stream",
     "text": [
      "Average Metric: 7.0 / 50  (14.0): 100%|██████████| 50/50 [01:45<00:00,  2.12s/it]"
     ]
    },
    {
     "name": "stdout",
     "output_type": "stream",
     "text": [
      "Average Metric: 7.0 / 50  (14.0%)\n"
     ]
    },
    {
     "name": "stderr",
     "output_type": "stream",
     "text": [
      "\n"
     ]
    },
    {
     "data": {
      "text/html": [
       "<style type=\"text/css\">\n",
       "#T_992a7 th {\n",
       "  text-align: left;\n",
       "}\n",
       "#T_992a7 td {\n",
       "  text-align: left;\n",
       "}\n",
       "#T_992a7_row0_col0, #T_992a7_row0_col1, #T_992a7_row0_col2, #T_992a7_row0_col3, #T_992a7_row0_col4, #T_992a7_row0_col5, #T_992a7_row1_col0, #T_992a7_row1_col1, #T_992a7_row1_col2, #T_992a7_row1_col3, #T_992a7_row1_col4, #T_992a7_row1_col5, #T_992a7_row2_col0, #T_992a7_row2_col1, #T_992a7_row2_col2, #T_992a7_row2_col3, #T_992a7_row2_col4, #T_992a7_row2_col5, #T_992a7_row3_col0, #T_992a7_row3_col1, #T_992a7_row3_col2, #T_992a7_row3_col3, #T_992a7_row3_col4, #T_992a7_row3_col5, #T_992a7_row4_col0, #T_992a7_row4_col1, #T_992a7_row4_col2, #T_992a7_row4_col3, #T_992a7_row4_col4, #T_992a7_row4_col5 {\n",
       "  text-align: left;\n",
       "  white-space: pre-wrap;\n",
       "  word-wrap: break-word;\n",
       "  max-width: 400px;\n",
       "}\n",
       "</style>\n",
       "<table id=\"T_992a7\">\n",
       "  <thead>\n",
       "    <tr>\n",
       "      <th class=\"blank level0\" >&nbsp;</th>\n",
       "      <th id=\"T_992a7_level0_col0\" class=\"col_heading level0 col0\" >question</th>\n",
       "      <th id=\"T_992a7_level0_col1\" class=\"col_heading level0 col1\" >example_answer</th>\n",
       "      <th id=\"T_992a7_level0_col2\" class=\"col_heading level0 col2\" >context</th>\n",
       "      <th id=\"T_992a7_level0_col3\" class=\"col_heading level0 col3\" >pred_answer</th>\n",
       "      <th id=\"T_992a7_level0_col4\" class=\"col_heading level0 col4\" >answer_exact_match</th>\n",
       "      <th id=\"T_992a7_level0_col5\" class=\"col_heading level0 col5\" >answer</th>\n",
       "    </tr>\n",
       "  </thead>\n",
       "  <tbody>\n",
       "    <tr>\n",
       "      <th id=\"T_992a7_level0_row0\" class=\"row_heading level0 row0\" >0</th>\n",
       "      <td id=\"T_992a7_row0_col0\" class=\"data row0 col0\" >Where is the James Watt Memorial College?</td>\n",
       "      <td id=\"T_992a7_row0_col1\" class=\"data row0 col1\" >In Greenock.</td>\n",
       "      <td id=\"T_992a7_row0_col2\" class=\"data row0 col2\" >['James Watt College | The James Watt College was a further education college in Greenock, Scotland. It is now part of West College Scotland. There...</td>\n",
       "      <td id=\"T_992a7_row0_col3\" class=\"data row0 col3\" >N/A (there is no James Watt Memorial College mentioned in the context)</td>\n",
       "      <td id=\"T_992a7_row0_col4\" class=\"data row0 col4\" >❌ [False]</td>\n",
       "      <td id=\"T_992a7_row0_col5\" class=\"data row0 col5\" >nan</td>\n",
       "    </tr>\n",
       "    <tr>\n",
       "      <th id=\"T_992a7_level0_row1\" class=\"row_heading level0 row1\" >1</th>\n",
       "      <td id=\"T_992a7_row1_col0\" class=\"data row1 col0\" >Are termites actually more closely related to cockroaches as well as mantids?</td>\n",
       "      <td id=\"T_992a7_row1_col1\" class=\"data row1 col1\" >Yes, termites are actually more closely related to cockroaches as well as mantids.</td>\n",
       "      <td id=\"T_992a7_row1_col2\" class=\"data row1 col2\" >['Blattodea | Blattodea is an order of insects that contains the cockroaches and the termites. Formerly, the termites were considered a separate order, Isoptera, but...</td>\n",
       "      <td id=\"T_992a7_row1_col3\" class=\"data row1 col3\" >Yes.</td>\n",
       "      <td id=\"T_992a7_row1_col4\" class=\"data row1 col4\" >❌ [False]</td>\n",
       "      <td id=\"T_992a7_row1_col5\" class=\"data row1 col5\" >nan</td>\n",
       "    </tr>\n",
       "    <tr>\n",
       "      <th id=\"T_992a7_level0_row2\" class=\"row_heading level0 row2\" >2</th>\n",
       "      <td id=\"T_992a7_row2_col0\" class=\"data row2 col0\" >Was Volta made a count in 1810?</td>\n",
       "      <td id=\"T_992a7_row2_col1\" class=\"data row2 col1\" >No.</td>\n",
       "      <td id=\"T_992a7_row2_col2\" class=\"data row2 col2\" >['2010 Volta ao Algarve | The 2010 Volta ao Algarve was the 36th edition of the Volta ao Algarve cycling stage race. It was held...</td>\n",
       "      <td id=\"T_992a7_row2_col3\" class=\"data row2 col3\" >Unknown, not mentioned in the context.</td>\n",
       "      <td id=\"T_992a7_row2_col4\" class=\"data row2 col4\" >❌ [False]</td>\n",
       "      <td id=\"T_992a7_row2_col5\" class=\"data row2 col5\" >nan</td>\n",
       "    </tr>\n",
       "    <tr>\n",
       "      <th id=\"T_992a7_level0_row3\" class=\"row_heading level0 row3\" >3</th>\n",
       "      <td id=\"T_992a7_row3_col0\" class=\"data row3 col0\" >Is Berlin the headquarters of Springer?</td>\n",
       "      <td id=\"T_992a7_row3_col1\" class=\"data row3 col1\" >Yes, Berlin is the headquarters of Springer.</td>\n",
       "      <td id=\"T_992a7_row3_col2\" class=\"data row3 col2\" >['Springer Building | The Springer Building at 121 Tijeras Ave., NE, in Albuquerque, New Mexico, was built during 1929-30 It was listed on the National...</td>\n",
       "      <td id=\"T_992a7_row3_col3\" class=\"data row3 col3\" >Yes, Springer Science+Business Media has major offices in Berlin.</td>\n",
       "      <td id=\"T_992a7_row3_col4\" class=\"data row3 col4\" >❌ [False]</td>\n",
       "      <td id=\"T_992a7_row3_col5\" class=\"data row3 col5\" >nan</td>\n",
       "    </tr>\n",
       "    <tr>\n",
       "      <th id=\"T_992a7_level0_row4\" class=\"row_heading level0 row4\" >4</th>\n",
       "      <td id=\"T_992a7_row4_col0\" class=\"data row4 col0\" >Why does Jakarta suffer frequent flooding?</td>\n",
       "      <td id=\"T_992a7_row4_col1\" class=\"data row4 col1\" >Because it is located approximately eight meters above the sea level</td>\n",
       "      <td id=\"T_992a7_row4_col2\" class=\"data row4 col2\" >['2007 Jakarta flood | The 2007 Jakarta flood was a major flood in Jakarta, the capital of Indonesia and affected several other areas around the...</td>\n",
       "      <td id=\"T_992a7_row4_col3\" class=\"data row4 col3\" >Heavy rain, deforestation, and clogged waterways.</td>\n",
       "      <td id=\"T_992a7_row4_col4\" class=\"data row4 col4\" >❌ [False]</td>\n",
       "      <td id=\"T_992a7_row4_col5\" class=\"data row4 col5\" >nan</td>\n",
       "    </tr>\n",
       "  </tbody>\n",
       "</table>\n"
      ],
      "text/plain": [
       "<pandas.io.formats.style.Styler at 0x7f17e7adc310>"
      ]
     },
     "metadata": {},
     "output_type": "display_data"
    },
    {
     "data": {
      "text/html": [
       "\n",
       "                <div style='\n",
       "                    text-align: center; \n",
       "                    font-size: 16px; \n",
       "                    font-weight: bold; \n",
       "                    color: #555; \n",
       "                    margin: 10px 0;'>\n",
       "                    ... 45 more rows not displayed ...\n",
       "                </div>\n",
       "                "
      ],
      "text/plain": [
       "<IPython.core.display.HTML object>"
      ]
     },
     "metadata": {},
     "output_type": "display_data"
    }
   ],
   "source": [
    "compiled_baleen_retrieval_score = evaluate_on_hotpotqa(compiled_baleen, metric=metric)"
   ]
  },
  {
   "cell_type": "code",
   "execution_count": null,
   "id": "a6e6e295-d1c7-48e6-90c0-4daa91390301",
   "metadata": {},
   "outputs": [],
   "source": []
  },
  {
   "cell_type": "code",
   "execution_count": null,
   "id": "9365bf93-2dc3-4b7c-a28f-5a24bef1c1f3",
   "metadata": {},
   "outputs": [],
   "source": []
  }
 ],
 "metadata": {
  "kernelspec": {
   "display_name": "Python 3 (ipykernel)",
   "language": "python",
   "name": "python3"
  },
  "language_info": {
   "codemirror_mode": {
    "name": "ipython",
    "version": 3
   },
   "file_extension": ".py",
   "mimetype": "text/x-python",
   "name": "python",
   "nbconvert_exporter": "python",
   "pygments_lexer": "ipython3",
   "version": "3.9.16"
  }
 },
 "nbformat": 4,
 "nbformat_minor": 5
}
